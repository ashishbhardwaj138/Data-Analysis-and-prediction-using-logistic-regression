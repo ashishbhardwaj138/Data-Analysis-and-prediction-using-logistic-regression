{
 "cells": [
  {
   "cell_type": "code",
   "execution_count": 1,
   "id": "4f524a38",
   "metadata": {},
   "outputs": [
    {
     "data": {
      "text/html": [
       "<div>\n",
       "<style scoped>\n",
       "    .dataframe tbody tr th:only-of-type {\n",
       "        vertical-align: middle;\n",
       "    }\n",
       "\n",
       "    .dataframe tbody tr th {\n",
       "        vertical-align: top;\n",
       "    }\n",
       "\n",
       "    .dataframe thead th {\n",
       "        text-align: right;\n",
       "    }\n",
       "</style>\n",
       "<table border=\"1\" class=\"dataframe\">\n",
       "  <thead>\n",
       "    <tr style=\"text-align: right;\">\n",
       "      <th></th>\n",
       "      <th>ID</th>\n",
       "      <th>STATE</th>\n",
       "      <th>AGE</th>\n",
       "      <th>OCCUPATION</th>\n",
       "      <th>INCOME_GROUP</th>\n",
       "      <th>CUSTOMER_SINCE</th>\n",
       "      <th>LOYALTY_PROGRAM</th>\n",
       "      <th>PAST_PURCHASE</th>\n",
       "      <th>PURCHASE</th>\n",
       "    </tr>\n",
       "  </thead>\n",
       "  <tbody>\n",
       "    <tr>\n",
       "      <th>0</th>\n",
       "      <td>1</td>\n",
       "      <td>Uttar Pradesh</td>\n",
       "      <td>28</td>\n",
       "      <td></td>\n",
       "      <td>Low</td>\n",
       "      <td>2018</td>\n",
       "      <td>No</td>\n",
       "      <td>4937</td>\n",
       "      <td>No</td>\n",
       "    </tr>\n",
       "    <tr>\n",
       "      <th>1</th>\n",
       "      <td>2</td>\n",
       "      <td>Madhya Pradesh</td>\n",
       "      <td>27</td>\n",
       "      <td>Salaried</td>\n",
       "      <td>Low</td>\n",
       "      <td>2018</td>\n",
       "      <td>No</td>\n",
       "      <td>10834</td>\n",
       "      <td>No</td>\n",
       "    </tr>\n",
       "    <tr>\n",
       "      <th>2</th>\n",
       "      <td>3</td>\n",
       "      <td>West Bengal</td>\n",
       "      <td>62</td>\n",
       "      <td></td>\n",
       "      <td>High</td>\n",
       "      <td>2013</td>\n",
       "      <td>NaN</td>\n",
       "      <td>8610</td>\n",
       "      <td>Yes</td>\n",
       "    </tr>\n",
       "    <tr>\n",
       "      <th>3</th>\n",
       "      <td>4</td>\n",
       "      <td>Tamil Nadu</td>\n",
       "      <td>27</td>\n",
       "      <td>Salaried</td>\n",
       "      <td>Low</td>\n",
       "      <td>2018</td>\n",
       "      <td>No</td>\n",
       "      <td>14374</td>\n",
       "      <td>Yes</td>\n",
       "    </tr>\n",
       "    <tr>\n",
       "      <th>4</th>\n",
       "      <td>5</td>\n",
       "      <td>Uttar Pradesh</td>\n",
       "      <td>40</td>\n",
       "      <td>Self employed</td>\n",
       "      <td>High</td>\n",
       "      <td>2015</td>\n",
       "      <td>No</td>\n",
       "      <td>13158</td>\n",
       "      <td>No</td>\n",
       "    </tr>\n",
       "  </tbody>\n",
       "</table>\n",
       "</div>"
      ],
      "text/plain": [
       "   ID           STATE  AGE     OCCUPATION INCOME_GROUP  CUSTOMER_SINCE  \\\n",
       "0   1   Uttar Pradesh   28                         Low            2018   \n",
       "1   2  Madhya Pradesh   27       Salaried          Low            2018   \n",
       "2   3     West Bengal   62                        High            2013   \n",
       "3   4      Tamil Nadu   27       Salaried          Low            2018   \n",
       "4   5   Uttar Pradesh   40  Self employed         High            2015   \n",
       "\n",
       "  LOYALTY_PROGRAM  PAST_PURCHASE PURCHASE  \n",
       "0              No           4937       No  \n",
       "1              No          10834       No  \n",
       "2             NaN           8610      Yes  \n",
       "3              No          14374      Yes  \n",
       "4              No          13158       No  "
      ]
     },
     "execution_count": 1,
     "metadata": {},
     "output_type": "execute_result"
    }
   ],
   "source": [
    "#Importing dataset and libraries\n",
    "import pandas as pd\n",
    "import numpy as np\n",
    "#training data set\n",
    "train=pd.read_csv('train_pidilite.csv')\n",
    "train.head()\n"
   ]
  },
  {
   "cell_type": "code",
   "execution_count": 2,
   "id": "ab68b832",
   "metadata": {},
   "outputs": [
    {
     "data": {
      "text/html": [
       "<div>\n",
       "<style scoped>\n",
       "    .dataframe tbody tr th:only-of-type {\n",
       "        vertical-align: middle;\n",
       "    }\n",
       "\n",
       "    .dataframe tbody tr th {\n",
       "        vertical-align: top;\n",
       "    }\n",
       "\n",
       "    .dataframe thead th {\n",
       "        text-align: right;\n",
       "    }\n",
       "</style>\n",
       "<table border=\"1\" class=\"dataframe\">\n",
       "  <thead>\n",
       "    <tr style=\"text-align: right;\">\n",
       "      <th></th>\n",
       "      <th>ID</th>\n",
       "      <th>STATE</th>\n",
       "      <th>AGE</th>\n",
       "      <th>OCCUPATION</th>\n",
       "      <th>INCOME_GROUP</th>\n",
       "      <th>CUSTOMER_SINCE</th>\n",
       "      <th>LOYALTY_PROGRAM</th>\n",
       "      <th>PAST_PURCHASE</th>\n",
       "    </tr>\n",
       "  </thead>\n",
       "  <tbody>\n",
       "    <tr>\n",
       "      <th>0</th>\n",
       "      <td>150001</td>\n",
       "      <td>Maharashtra</td>\n",
       "      <td>50</td>\n",
       "      <td>Self employed</td>\n",
       "      <td>Medium</td>\n",
       "      <td>2018</td>\n",
       "      <td>No</td>\n",
       "      <td>12746</td>\n",
       "    </tr>\n",
       "    <tr>\n",
       "      <th>1</th>\n",
       "      <td>150002</td>\n",
       "      <td>Maharashtra</td>\n",
       "      <td>58</td>\n",
       "      <td>Self employed</td>\n",
       "      <td>High</td>\n",
       "      <td>2011</td>\n",
       "      <td>Yes</td>\n",
       "      <td>12277</td>\n",
       "    </tr>\n",
       "    <tr>\n",
       "      <th>2</th>\n",
       "      <td>150003</td>\n",
       "      <td>Andaman and Nicobar Islands</td>\n",
       "      <td>30</td>\n",
       "      <td>Salaried</td>\n",
       "      <td>Low</td>\n",
       "      <td>2017</td>\n",
       "      <td>Yes</td>\n",
       "      <td>16401</td>\n",
       "    </tr>\n",
       "    <tr>\n",
       "      <th>3</th>\n",
       "      <td>150004</td>\n",
       "      <td>Mizoram</td>\n",
       "      <td>27</td>\n",
       "      <td>Salaried</td>\n",
       "      <td>Low</td>\n",
       "      <td>2018</td>\n",
       "      <td>Yes</td>\n",
       "      <td>9665</td>\n",
       "    </tr>\n",
       "    <tr>\n",
       "      <th>4</th>\n",
       "      <td>150005</td>\n",
       "      <td>Uttar Pradesh</td>\n",
       "      <td>67</td>\n",
       "      <td></td>\n",
       "      <td>Medium</td>\n",
       "      <td>2014</td>\n",
       "      <td>No</td>\n",
       "      <td>15724</td>\n",
       "    </tr>\n",
       "  </tbody>\n",
       "</table>\n",
       "</div>"
      ],
      "text/plain": [
       "       ID                        STATE  AGE     OCCUPATION INCOME_GROUP  \\\n",
       "0  150001                  Maharashtra   50  Self employed       Medium   \n",
       "1  150002                  Maharashtra   58  Self employed         High   \n",
       "2  150003  Andaman and Nicobar Islands   30       Salaried          Low   \n",
       "3  150004                      Mizoram   27       Salaried          Low   \n",
       "4  150005                Uttar Pradesh   67                      Medium   \n",
       "\n",
       "   CUSTOMER_SINCE LOYALTY_PROGRAM  PAST_PURCHASE  \n",
       "0            2018              No          12746  \n",
       "1            2011             Yes          12277  \n",
       "2            2017             Yes          16401  \n",
       "3            2018             Yes           9665  \n",
       "4            2014              No          15724  "
      ]
     },
     "execution_count": 2,
     "metadata": {},
     "output_type": "execute_result"
    }
   ],
   "source": [
    "#test dataset\n",
    "test=pd.read_csv(\"test_pdilite.csv\")\n",
    "test.head()"
   ]
  },
  {
   "cell_type": "code",
   "execution_count": 91,
   "id": "cf5e5f07",
   "metadata": {},
   "outputs": [
    {
     "data": {
      "text/plain": [
       "(count          150000\n",
       " unique             34\n",
       " top       Maharashtra\n",
       " freq            21968\n",
       " Name: STATE, dtype: object,\n",
       " Maharashtra                    21968\n",
       " Tamil Nadu                     17836\n",
       " Uttar Pradesh                  16400\n",
       " Karnataka                      11689\n",
       " Gujarat                         7864\n",
       " West Bengal                     7751\n",
       " Telangana                       4783\n",
       " Andhra Pradesh                  4781\n",
       " Rajasthan                       4621\n",
       " Kerala                          3718\n",
       " Madhya Pradesh                  3680\n",
       " Delhi                           3572\n",
       " Bihar                           3225\n",
       " Haryana                         3197\n",
       " Punjab                          3113\n",
       " Odisha                          2773\n",
       " Assam                           2638\n",
       " Chhattisgarh                    2366\n",
       " Jharkhand                       2242\n",
       " Uttarakhand                     1984\n",
       " Jammu and Kashmir               1962\n",
       "                                 1842\n",
       " Himachal Pradesh                1763\n",
       " Goa                             1735\n",
       " Tripura                         1735\n",
       " Chandigarh                      1583\n",
       " Puducherry                      1503\n",
       " Meghalaya                       1231\n",
       " Sikkim                          1200\n",
       " Nagaland                        1133\n",
       " Manipur                         1108\n",
       " Arunachal Pradesh               1065\n",
       " Mizoram                          984\n",
       " Andaman and Nicobar Islands      955\n",
       " Name: STATE, dtype: int64)"
      ]
     },
     "execution_count": 91,
     "metadata": {},
     "output_type": "execute_result"
    }
   ],
   "source": [
    "#data insights\n",
    "\n",
    "train['STATE'].describe(),train['STATE'].value_counts()"
   ]
  },
  {
   "cell_type": "code",
   "execution_count": null,
   "id": "5c37faf1",
   "metadata": {},
   "outputs": [],
   "source": [
    "#maximum percentage of customers are from maharashtra (i.e. 14.65%) and about 45% are from Maharashtra,Tamil Nadu,Uttar Pradesh,Karnataka"
   ]
  },
  {
   "cell_type": "code",
   "execution_count": 96,
   "id": "f920cdc4",
   "metadata": {},
   "outputs": [
    {
     "data": {
      "text/plain": [
       "(count    150000.000000\n",
       " mean         43.805660\n",
       " std          14.828219\n",
       " min          23.000000\n",
       " 25%          30.000000\n",
       " 50%          43.000000\n",
       " 75%          54.000000\n",
       " max          85.000000\n",
       " Name: AGE, dtype: float64,\n",
       " 28    8985\n",
       " 29    8095\n",
       " 27    7927\n",
       " 30    6874\n",
       " 26    5533\n",
       "       ... \n",
       " 82     450\n",
       " 83     408\n",
       " 84     397\n",
       " 85     368\n",
       " 23       1\n",
       " Name: AGE, Length: 63, dtype: int64)"
      ]
     },
     "execution_count": 96,
     "metadata": {},
     "output_type": "execute_result"
    }
   ],
   "source": [
    "train['AGE'].describe(),train['AGE'].value_counts()"
   ]
  },
  {
   "cell_type": "code",
   "execution_count": null,
   "id": "8f1d6093",
   "metadata": {},
   "outputs": [],
   "source": [
    "#about 25% of all customers are from age group (23-30)"
   ]
  },
  {
   "cell_type": "code",
   "execution_count": 98,
   "id": "c271bfac",
   "metadata": {},
   "outputs": [
    {
     "data": {
      "text/plain": [
       "(count    150000.000000\n",
       " mean          0.996160\n",
       " std           0.744036\n",
       " min           0.000000\n",
       " 25%           0.000000\n",
       " 50%           1.000000\n",
       " 75%           2.000000\n",
       " max           2.000000\n",
       " Name: INCOME_GROUP, dtype: float64,\n",
       " 1    66960\n",
       " 0    41808\n",
       " 2    41232\n",
       " Name: INCOME_GROUP, dtype: int64)"
      ]
     },
     "execution_count": 98,
     "metadata": {},
     "output_type": "execute_result"
    }
   ],
   "source": [
    "train['INCOME_GROUP'].describe(),train['INCOME_GROUP'].value_counts()"
   ]
  },
  {
   "cell_type": "code",
   "execution_count": null,
   "id": "b394d78a",
   "metadata": {},
   "outputs": [],
   "source": [
    "#medium income group customers are more (i.e. 45%)"
   ]
  },
  {
   "cell_type": "code",
   "execution_count": 3,
   "id": "78a454cb",
   "metadata": {},
   "outputs": [
    {
     "data": {
      "text/plain": [
       "(ID                     0\n",
       " STATE                  0\n",
       " AGE                    0\n",
       " OCCUPATION             0\n",
       " INCOME_GROUP           0\n",
       " CUSTOMER_SINCE         0\n",
       " LOYALTY_PROGRAM    17824\n",
       " PAST_PURCHASE          0\n",
       " PURCHASE               0\n",
       " dtype: int64,\n",
       " (150000, 9))"
      ]
     },
     "execution_count": 3,
     "metadata": {},
     "output_type": "execute_result"
    }
   ],
   "source": [
    "#cleaning train dataframe\n",
    "#calculating null values columns wise\n",
    "train.isnull().sum(),train.shape"
   ]
  },
  {
   "cell_type": "code",
   "execution_count": 4,
   "id": "280a8cdc",
   "metadata": {},
   "outputs": [
    {
     "data": {
      "text/plain": [
       "No     88182\n",
       "Yes    43994\n",
       "Name: LOYALTY_PROGRAM, dtype: int64"
      ]
     },
     "execution_count": 4,
     "metadata": {},
     "output_type": "execute_result"
    }
   ],
   "source": [
    "train['LOYALTY_PROGRAM'].value_counts()"
   ]
  },
  {
   "cell_type": "code",
   "execution_count": 5,
   "id": "b5a5dd9f",
   "metadata": {},
   "outputs": [],
   "source": [
    "#percentage null values in column 'LOYALITY_PROGRAM' is 17824*100/150000=11.88% which is less than 30%, so let's fill these null values by most occuring element.\n",
    "train['LOYALTY_PROGRAM'].fillna('No',inplace=True)"
   ]
  },
  {
   "cell_type": "code",
   "execution_count": 6,
   "id": "20a8b84e",
   "metadata": {},
   "outputs": [
    {
     "data": {
      "text/plain": [
       "ID                 0\n",
       "STATE              0\n",
       "AGE                0\n",
       "OCCUPATION         0\n",
       "INCOME_GROUP       0\n",
       "CUSTOMER_SINCE     0\n",
       "LOYALTY_PROGRAM    0\n",
       "PAST_PURCHASE      0\n",
       "PURCHASE           0\n",
       "dtype: int64"
      ]
     },
     "execution_count": 6,
     "metadata": {},
     "output_type": "execute_result"
    }
   ],
   "source": [
    "train.isnull().sum()"
   ]
  },
  {
   "cell_type": "code",
   "execution_count": 7,
   "id": "4747d742",
   "metadata": {},
   "outputs": [],
   "source": [
    "#converting this column LOYALITY_PROGRAM into numerical\n",
    "train['LOYALTY_PROGRAM']=[0 if train['LOYALTY_PROGRAM'][i]==\"No\" else 1 for i in train.index]"
   ]
  },
  {
   "cell_type": "code",
   "execution_count": 8,
   "id": "bd6cf397",
   "metadata": {},
   "outputs": [
    {
     "data": {
      "text/plain": [
       "Self employed    61375\n",
       "Salaried         44214\n",
       "                 42777\n",
       "Business          1634\n",
       "Name: OCCUPATION, dtype: int64"
      ]
     },
     "execution_count": 8,
     "metadata": {},
     "output_type": "execute_result"
    }
   ],
   "source": [
    "#Besides null values, there are some blacnk cells in dataframe, lets find them and determining their percentage\n",
    "train['OCCUPATION'].value_counts()"
   ]
  },
  {
   "cell_type": "code",
   "execution_count": 9,
   "id": "b26ef310",
   "metadata": {},
   "outputs": [],
   "source": [
    "#the blank values here are more than 10% , so it is eroneous column so let's drop it.\n",
    "train.drop(['OCCUPATION'],axis=1,inplace=True)"
   ]
  },
  {
   "cell_type": "code",
   "execution_count": 10,
   "id": "409a6421",
   "metadata": {},
   "outputs": [
    {
     "data": {
      "text/plain": [
       "Low       63523\n",
       "High      41808\n",
       "Medium    41232\n",
       "           3437\n",
       "Name: INCOME_GROUP, dtype: int64"
      ]
     },
     "execution_count": 10,
     "metadata": {},
     "output_type": "execute_result"
    }
   ],
   "source": [
    "train['INCOME_GROUP'].value_counts()"
   ]
  },
  {
   "cell_type": "code",
   "execution_count": 15,
   "id": "9e5a1c6f",
   "metadata": {},
   "outputs": [
    {
     "data": {
      "text/plain": [
       "Low       66960\n",
       "High      41808\n",
       "Medium    41232\n",
       "Name: INCOME_GROUP, dtype: int64"
      ]
     },
     "execution_count": 15,
     "metadata": {},
     "output_type": "execute_result"
    }
   ],
   "source": [
    "#the blank values here are less than 10%, so filling it with most occuring one.\n",
    "train['INCOME_GROUP'].replace(to_replace=\" \", value=\"Low\", inplace=True)\n",
    "train['INCOME_GROUP'].value_counts()"
   ]
  },
  {
   "cell_type": "code",
   "execution_count": 16,
   "id": "cb48c4de",
   "metadata": {},
   "outputs": [
    {
     "data": {
      "text/plain": [
       "2018    14821\n",
       "2017    12420\n",
       "2012     4374\n",
       "2014     3585\n",
       "2015     3233\n",
       "2013     3036\n",
       "2011     2817\n",
       "2016     2444\n",
       "2010     1965\n",
       "2009      938\n",
       "2019      360\n",
       "2008        7\n",
       "Name: CUSTOMER_SINCE, dtype: int64"
      ]
     },
     "execution_count": 16,
     "metadata": {},
     "output_type": "execute_result"
    }
   ],
   "source": [
    "test['CUSTOMER_SINCE'].value_counts()\n",
    "#it is a clean column"
   ]
  },
  {
   "cell_type": "code",
   "execution_count": 17,
   "id": "081bc1ce",
   "metadata": {},
   "outputs": [
    {
     "data": {
      "text/plain": [
       "40222    23\n",
       "4841     13\n",
       "6874     13\n",
       "9022     13\n",
       "6359     13\n",
       "         ..\n",
       "12873     1\n",
       "25187     1\n",
       "21093     1\n",
       "16999     1\n",
       "2047      1\n",
       "Name: PAST_PURCHASE, Length: 19490, dtype: int64"
      ]
     },
     "execution_count": 17,
     "metadata": {},
     "output_type": "execute_result"
    }
   ],
   "source": [
    "test['PAST_PURCHASE'].value_counts()\n",
    "#it is also a clean coumn"
   ]
  },
  {
   "cell_type": "code",
   "execution_count": 19,
   "id": "848022cf",
   "metadata": {},
   "outputs": [],
   "source": [
    "#using label encoder to convert to numerical \n",
    "from sklearn.preprocessing import LabelEncoder\n",
    "number=LabelEncoder()\n",
    "train['INCOME_GROUP']=number.fit_transform(train['INCOME_GROUP'].astype('str'))\n"
   ]
  },
  {
   "cell_type": "code",
   "execution_count": 20,
   "id": "4f65f83b",
   "metadata": {},
   "outputs": [
    {
     "data": {
      "text/html": [
       "<div>\n",
       "<style scoped>\n",
       "    .dataframe tbody tr th:only-of-type {\n",
       "        vertical-align: middle;\n",
       "    }\n",
       "\n",
       "    .dataframe tbody tr th {\n",
       "        vertical-align: top;\n",
       "    }\n",
       "\n",
       "    .dataframe thead th {\n",
       "        text-align: right;\n",
       "    }\n",
       "</style>\n",
       "<table border=\"1\" class=\"dataframe\">\n",
       "  <thead>\n",
       "    <tr style=\"text-align: right;\">\n",
       "      <th></th>\n",
       "      <th>ID</th>\n",
       "      <th>STATE</th>\n",
       "      <th>AGE</th>\n",
       "      <th>INCOME_GROUP</th>\n",
       "      <th>CUSTOMER_SINCE</th>\n",
       "      <th>LOYALTY_PROGRAM</th>\n",
       "      <th>PAST_PURCHASE</th>\n",
       "      <th>PURCHASE</th>\n",
       "    </tr>\n",
       "  </thead>\n",
       "  <tbody>\n",
       "    <tr>\n",
       "      <th>0</th>\n",
       "      <td>1</td>\n",
       "      <td>Uttar Pradesh</td>\n",
       "      <td>28</td>\n",
       "      <td>1</td>\n",
       "      <td>2018</td>\n",
       "      <td>0</td>\n",
       "      <td>4937</td>\n",
       "      <td>No</td>\n",
       "    </tr>\n",
       "    <tr>\n",
       "      <th>1</th>\n",
       "      <td>2</td>\n",
       "      <td>Madhya Pradesh</td>\n",
       "      <td>27</td>\n",
       "      <td>1</td>\n",
       "      <td>2018</td>\n",
       "      <td>0</td>\n",
       "      <td>10834</td>\n",
       "      <td>No</td>\n",
       "    </tr>\n",
       "    <tr>\n",
       "      <th>2</th>\n",
       "      <td>3</td>\n",
       "      <td>West Bengal</td>\n",
       "      <td>62</td>\n",
       "      <td>0</td>\n",
       "      <td>2013</td>\n",
       "      <td>0</td>\n",
       "      <td>8610</td>\n",
       "      <td>Yes</td>\n",
       "    </tr>\n",
       "    <tr>\n",
       "      <th>3</th>\n",
       "      <td>4</td>\n",
       "      <td>Tamil Nadu</td>\n",
       "      <td>27</td>\n",
       "      <td>1</td>\n",
       "      <td>2018</td>\n",
       "      <td>0</td>\n",
       "      <td>14374</td>\n",
       "      <td>Yes</td>\n",
       "    </tr>\n",
       "    <tr>\n",
       "      <th>4</th>\n",
       "      <td>5</td>\n",
       "      <td>Uttar Pradesh</td>\n",
       "      <td>40</td>\n",
       "      <td>0</td>\n",
       "      <td>2015</td>\n",
       "      <td>0</td>\n",
       "      <td>13158</td>\n",
       "      <td>No</td>\n",
       "    </tr>\n",
       "  </tbody>\n",
       "</table>\n",
       "</div>"
      ],
      "text/plain": [
       "   ID           STATE  AGE  INCOME_GROUP  CUSTOMER_SINCE  LOYALTY_PROGRAM  \\\n",
       "0   1   Uttar Pradesh   28             1            2018                0   \n",
       "1   2  Madhya Pradesh   27             1            2018                0   \n",
       "2   3     West Bengal   62             0            2013                0   \n",
       "3   4      Tamil Nadu   27             1            2018                0   \n",
       "4   5   Uttar Pradesh   40             0            2015                0   \n",
       "\n",
       "   PAST_PURCHASE PURCHASE  \n",
       "0           4937       No  \n",
       "1          10834       No  \n",
       "2           8610      Yes  \n",
       "3          14374      Yes  \n",
       "4          13158       No  "
      ]
     },
     "execution_count": 20,
     "metadata": {},
     "output_type": "execute_result"
    }
   ],
   "source": [
    "#the train dataframe is fully cleaned now.\n",
    "train.head()"
   ]
  },
  {
   "cell_type": "code",
   "execution_count": 21,
   "id": "205bb0e2",
   "metadata": {},
   "outputs": [
    {
     "data": {
      "text/plain": [
       "(ID                    0\n",
       " STATE                 0\n",
       " AGE                   0\n",
       " OCCUPATION            0\n",
       " INCOME_GROUP          0\n",
       " CUSTOMER_SINCE        0\n",
       " LOYALTY_PROGRAM    6004\n",
       " PAST_PURCHASE         0\n",
       " dtype: int64,\n",
       " (50000, 8))"
      ]
     },
     "execution_count": 21,
     "metadata": {},
     "output_type": "execute_result"
    }
   ],
   "source": [
    "#cleaning test dataframe\n",
    "#calculating null values columns wise\n",
    "test.isnull().sum(),test.shape"
   ]
  },
  {
   "cell_type": "code",
   "execution_count": 22,
   "id": "c9f109c0",
   "metadata": {},
   "outputs": [
    {
     "data": {
      "text/plain": [
       "No     29290\n",
       "Yes    14706\n",
       "Name: LOYALTY_PROGRAM, dtype: int64"
      ]
     },
     "execution_count": 22,
     "metadata": {},
     "output_type": "execute_result"
    }
   ],
   "source": [
    "test['LOYALTY_PROGRAM'].value_counts()"
   ]
  },
  {
   "cell_type": "code",
   "execution_count": 23,
   "id": "42f654be",
   "metadata": {},
   "outputs": [],
   "source": [
    "#percentage null values in column 'LOYALITY_PROGRAM' is 6004*100/50000=12% which is less than 30%, so let's fill these null values by most occuring element.\n",
    "test['LOYALTY_PROGRAM'].fillna('No',inplace=True)"
   ]
  },
  {
   "cell_type": "code",
   "execution_count": 24,
   "id": "56e2156c",
   "metadata": {},
   "outputs": [
    {
     "data": {
      "text/plain": [
       "ID                 0\n",
       "STATE              0\n",
       "AGE                0\n",
       "OCCUPATION         0\n",
       "INCOME_GROUP       0\n",
       "CUSTOMER_SINCE     0\n",
       "LOYALTY_PROGRAM    0\n",
       "PAST_PURCHASE      0\n",
       "dtype: int64"
      ]
     },
     "execution_count": 24,
     "metadata": {},
     "output_type": "execute_result"
    }
   ],
   "source": [
    "test.isnull().sum()"
   ]
  },
  {
   "cell_type": "code",
   "execution_count": 25,
   "id": "fa1b1eb9",
   "metadata": {},
   "outputs": [],
   "source": [
    "#converting the 'LOYALITY_PROGRAM' into numerical column\n",
    "test['LOYALTY_PROGRAM']=[0 if test['LOYALTY_PROGRAM'][i]==\"No\" else 1 for i in test.index]"
   ]
  },
  {
   "cell_type": "code",
   "execution_count": 26,
   "id": "598de12f",
   "metadata": {},
   "outputs": [
    {
     "data": {
      "text/plain": [
       "Self employed    20603\n",
       "Salaried         14472\n",
       "                 14380\n",
       "Business           545\n",
       "Name: OCCUPATION, dtype: int64"
      ]
     },
     "execution_count": 26,
     "metadata": {},
     "output_type": "execute_result"
    }
   ],
   "source": [
    "#Besides null values, there are some blcnk cells in dataframe, lets find them and determining their percentage\n",
    "test['OCCUPATION'].value_counts()"
   ]
  },
  {
   "cell_type": "code",
   "execution_count": 27,
   "id": "37f88995",
   "metadata": {},
   "outputs": [],
   "source": [
    "#the blank values here are more than 10% , so it is eroneous column\n",
    "test.drop(['OCCUPATION'],axis=1,inplace=True)"
   ]
  },
  {
   "cell_type": "code",
   "execution_count": 28,
   "id": "3c787e72",
   "metadata": {},
   "outputs": [
    {
     "data": {
      "text/plain": [
       "Low       21070\n",
       "High      14007\n",
       "Medium    13805\n",
       "           1118\n",
       "Name: INCOME_GROUP, dtype: int64"
      ]
     },
     "execution_count": 28,
     "metadata": {},
     "output_type": "execute_result"
    }
   ],
   "source": [
    "test['INCOME_GROUP'].value_counts()"
   ]
  },
  {
   "cell_type": "code",
   "execution_count": 29,
   "id": "54da5d56",
   "metadata": {},
   "outputs": [
    {
     "data": {
      "text/plain": [
       "0        Medium\n",
       "1          High\n",
       "2           Low\n",
       "3           Low\n",
       "4        Medium\n",
       "          ...  \n",
       "49995    Medium\n",
       "49996      High\n",
       "49997      High\n",
       "49998       Low\n",
       "49999       Low\n",
       "Name: INCOME_GROUP, Length: 50000, dtype: object"
      ]
     },
     "execution_count": 29,
     "metadata": {},
     "output_type": "execute_result"
    }
   ],
   "source": [
    "#the blank values here are less than 10%, so filling it with most occuring one.\n",
    "test['INCOME_GROUP'].replace(to_replace=\" \", value=\"Low\", inplace=False)"
   ]
  },
  {
   "cell_type": "code",
   "execution_count": 35,
   "id": "c41f2964",
   "metadata": {},
   "outputs": [],
   "source": [
    "#label-encoder\n",
    "test['INCOME_GROUP']=number.fit_transform(test['INCOME_GROUP'].astype('str'))"
   ]
  },
  {
   "cell_type": "code",
   "execution_count": 31,
   "id": "e9b5d95c",
   "metadata": {},
   "outputs": [
    {
     "data": {
      "text/plain": [
       "2018    14821\n",
       "2017    12420\n",
       "2012     4374\n",
       "2014     3585\n",
       "2015     3233\n",
       "2013     3036\n",
       "2011     2817\n",
       "2016     2444\n",
       "2010     1965\n",
       "2009      938\n",
       "2019      360\n",
       "2008        7\n",
       "Name: CUSTOMER_SINCE, dtype: int64"
      ]
     },
     "execution_count": 31,
     "metadata": {},
     "output_type": "execute_result"
    }
   ],
   "source": [
    "test['CUSTOMER_SINCE'].value_counts()\n",
    "#it is a clean column"
   ]
  },
  {
   "cell_type": "code",
   "execution_count": 32,
   "id": "63eeab6f",
   "metadata": {},
   "outputs": [
    {
     "data": {
      "text/plain": [
       "40222    23\n",
       "4841     13\n",
       "6874     13\n",
       "9022     13\n",
       "6359     13\n",
       "         ..\n",
       "12873     1\n",
       "25187     1\n",
       "21093     1\n",
       "16999     1\n",
       "2047      1\n",
       "Name: PAST_PURCHASE, Length: 19490, dtype: int64"
      ]
     },
     "execution_count": 32,
     "metadata": {},
     "output_type": "execute_result"
    }
   ],
   "source": [
    "test['PAST_PURCHASE'].value_counts()\n",
    "#it is also a clean coumn"
   ]
  },
  {
   "cell_type": "code",
   "execution_count": 36,
   "id": "7e1207f5",
   "metadata": {},
   "outputs": [
    {
     "data": {
      "text/html": [
       "<div>\n",
       "<style scoped>\n",
       "    .dataframe tbody tr th:only-of-type {\n",
       "        vertical-align: middle;\n",
       "    }\n",
       "\n",
       "    .dataframe tbody tr th {\n",
       "        vertical-align: top;\n",
       "    }\n",
       "\n",
       "    .dataframe thead th {\n",
       "        text-align: right;\n",
       "    }\n",
       "</style>\n",
       "<table border=\"1\" class=\"dataframe\">\n",
       "  <thead>\n",
       "    <tr style=\"text-align: right;\">\n",
       "      <th></th>\n",
       "      <th>ID</th>\n",
       "      <th>STATE</th>\n",
       "      <th>AGE</th>\n",
       "      <th>INCOME_GROUP</th>\n",
       "      <th>CUSTOMER_SINCE</th>\n",
       "      <th>LOYALTY_PROGRAM</th>\n",
       "      <th>PAST_PURCHASE</th>\n",
       "    </tr>\n",
       "  </thead>\n",
       "  <tbody>\n",
       "    <tr>\n",
       "      <th>0</th>\n",
       "      <td>150001</td>\n",
       "      <td>Maharashtra</td>\n",
       "      <td>50</td>\n",
       "      <td>3</td>\n",
       "      <td>2018</td>\n",
       "      <td>0</td>\n",
       "      <td>12746</td>\n",
       "    </tr>\n",
       "    <tr>\n",
       "      <th>1</th>\n",
       "      <td>150002</td>\n",
       "      <td>Maharashtra</td>\n",
       "      <td>58</td>\n",
       "      <td>1</td>\n",
       "      <td>2011</td>\n",
       "      <td>1</td>\n",
       "      <td>12277</td>\n",
       "    </tr>\n",
       "    <tr>\n",
       "      <th>2</th>\n",
       "      <td>150003</td>\n",
       "      <td>Andaman and Nicobar Islands</td>\n",
       "      <td>30</td>\n",
       "      <td>2</td>\n",
       "      <td>2017</td>\n",
       "      <td>1</td>\n",
       "      <td>16401</td>\n",
       "    </tr>\n",
       "    <tr>\n",
       "      <th>3</th>\n",
       "      <td>150004</td>\n",
       "      <td>Mizoram</td>\n",
       "      <td>27</td>\n",
       "      <td>2</td>\n",
       "      <td>2018</td>\n",
       "      <td>1</td>\n",
       "      <td>9665</td>\n",
       "    </tr>\n",
       "    <tr>\n",
       "      <th>4</th>\n",
       "      <td>150005</td>\n",
       "      <td>Uttar Pradesh</td>\n",
       "      <td>67</td>\n",
       "      <td>3</td>\n",
       "      <td>2014</td>\n",
       "      <td>0</td>\n",
       "      <td>15724</td>\n",
       "    </tr>\n",
       "  </tbody>\n",
       "</table>\n",
       "</div>"
      ],
      "text/plain": [
       "       ID                        STATE  AGE  INCOME_GROUP  CUSTOMER_SINCE  \\\n",
       "0  150001                  Maharashtra   50             3            2018   \n",
       "1  150002                  Maharashtra   58             1            2011   \n",
       "2  150003  Andaman and Nicobar Islands   30             2            2017   \n",
       "3  150004                      Mizoram   27             2            2018   \n",
       "4  150005                Uttar Pradesh   67             3            2014   \n",
       "\n",
       "   LOYALTY_PROGRAM  PAST_PURCHASE  \n",
       "0                0          12746  \n",
       "1                1          12277  \n",
       "2                1          16401  \n",
       "3                1           9665  \n",
       "4                0          15724  "
      ]
     },
     "execution_count": 36,
     "metadata": {},
     "output_type": "execute_result"
    }
   ],
   "source": [
    "test.head()\n",
    "#this train dataframe is fully cleaned now"
   ]
  },
  {
   "cell_type": "code",
   "execution_count": 61,
   "id": "be805d4c",
   "metadata": {},
   "outputs": [],
   "source": [
    "#part-2 (prediction using logistic regression)\n",
    "from sklearn import preprocessing, svm\n",
    "from sklearn.model_selection import train_test_split\n",
    "from sklearn.linear_model import LogisticRegression\n",
    "#here X and y are used for training and x_test for testing(prediction)\n",
    "X = train[['AGE','INCOME_GROUP','CUSTOMER_SINCE','LOYALTY_PROGRAM','PAST_PURCHASE']]\n",
    "y = train[['PURCHASE']]\n",
    "X_test = test[['AGE','INCOME_GROUP','CUSTOMER_SINCE','LOYALTY_PROGRAM','PAST_PURCHASE']]"
   ]
  },
  {
   "cell_type": "code",
   "execution_count": 62,
   "id": "86a6a54c",
   "metadata": {},
   "outputs": [],
   "source": [
    "#as the column's features are highly varying, so let's use standard scaler as it will bring the uniformity in dataframe\n",
    "from sklearn.preprocessing import StandardScaler\n",
    "scaler = StandardScaler()\n",
    "scaler.fit(X)\n",
    "\n",
    "X = scaler.transform(X)\n",
    "X_test = scaler.transform(X_test)"
   ]
  },
  {
   "cell_type": "code",
   "execution_count": 63,
   "id": "a188c09c",
   "metadata": {},
   "outputs": [
    {
     "name": "stderr",
     "output_type": "stream",
     "text": [
      "E:\\anaconda\\lib\\site-packages\\sklearn\\utils\\validation.py:63: DataConversionWarning: A column-vector y was passed when a 1d array was expected. Please change the shape of y to (n_samples, ), for example using ravel().\n",
      "  return f(*args, **kwargs)\n"
     ]
    },
    {
     "name": "stdout",
     "output_type": "stream",
     "text": [
      "0.7566933333333333\n"
     ]
    }
   ],
   "source": [
    "#model building\n",
    "regr = LogisticRegression()\n",
    "#model fitting  \n",
    "regr.fit(X, y)\n",
    "print(regr.score(X, y))"
   ]
  },
  {
   "cell_type": "code",
   "execution_count": 39,
   "id": "2f624932",
   "metadata": {},
   "outputs": [],
   "source": [
    "#prediction\n",
    "y_pred = regr.predict(X_test)"
   ]
  },
  {
   "cell_type": "code",
   "execution_count": 49,
   "id": "89ec62e2",
   "metadata": {},
   "outputs": [
    {
     "data": {
      "text/plain": [
       "(50000,)"
      ]
     },
     "execution_count": 49,
     "metadata": {},
     "output_type": "execute_result"
    }
   ],
   "source": [
    "y_pred.shape"
   ]
  },
  {
   "cell_type": "code",
   "execution_count": 65,
   "id": "6e33aad7",
   "metadata": {},
   "outputs": [],
   "source": [
    "#converting this array into dataframe\n",
    "y_pred=np.reshape(y_pred,(len(y_pred),1))\n",
    "submission=pd.DataFrame(y_pred)"
   ]
  },
  {
   "cell_type": "code",
   "execution_count": 68,
   "id": "643ccba5",
   "metadata": {},
   "outputs": [],
   "source": [
    "#appending it to submission file\n",
    "sub=pd.read_csv('submission.csv')\n",
    "sub['prdiction']=submission\n",
    "sub.to_csv('submission.csv',index=False)"
   ]
  },
  {
   "cell_type": "code",
   "execution_count": 79,
   "id": "db3df16b",
   "metadata": {},
   "outputs": [
    {
     "data": {
      "text/plain": [
       "0.7566933333333333"
      ]
     },
     "execution_count": 79,
     "metadata": {},
     "output_type": "execute_result"
    }
   ],
   "source": [
    "#for f1 score, y_test is not given so let's make prediction on x_train(here x and as output we get y-pred)and compare it with y_train\n",
    "y_pred_f1 = regr.predict(X)\n",
    "from sklearn.metrics import f1_score\n",
    "f1_score(y, y_pred_f1, average='micro')"
   ]
  }
 ],
 "metadata": {
  "kernelspec": {
   "display_name": "Python 3",
   "language": "python",
   "name": "python3"
  },
  "language_info": {
   "codemirror_mode": {
    "name": "ipython",
    "version": 3
   },
   "file_extension": ".py",
   "mimetype": "text/x-python",
   "name": "python",
   "nbconvert_exporter": "python",
   "pygments_lexer": "ipython3",
   "version": "3.8.8"
  }
 },
 "nbformat": 4,
 "nbformat_minor": 5
}
